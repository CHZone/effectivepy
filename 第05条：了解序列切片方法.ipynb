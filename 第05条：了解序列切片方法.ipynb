{
 "cells": [
  {
   "cell_type": "markdown",
   "metadata": {},
   "source": [
    "somelist[start:end]其中start 为起始位置，end不包含在切片结果中"
   ]
  },
  {
   "cell_type": "code",
   "execution_count": 9,
   "metadata": {
    "collapsed": true
   },
   "outputs": [],
   "source": [
    "a = ['a','b','c','d','e','f','g','h']"
   ]
  },
  {
   "cell_type": "markdown",
   "metadata": {},
   "source": [
    "a[:5]和a[5:] 要比 a[0:5]和[5:8]看起来清爽\n",
    "\n",
    "切割列表时 start ，end 越界也不会出报错\n",
    "\n",
    "**注意：** 负切片可能导致奇怪的结果"
   ]
  },
  {
   "cell_type": "code",
   "execution_count": 12,
   "metadata": {
    "collapsed": false
   },
   "outputs": [],
   "source": [
    "#a[-0:]表示原列表的拷贝\n",
    "a[-0:]\n",
    "# 为了增强可读性通常拷贝\n",
    "b = a[:]"
   ]
  },
  {
   "cell_type": "markdown",
   "metadata": {},
   "source": [
    "1. 对切片后的结果（上述代码中的b）进行操作不会影响原列表的值\n",
    "2. 赋值时对左侧（下面代码中的a[2:7]）列表进行切片操作会把切片范围内的对象替换为右边额值,切片的长度无需与新值个数相等，此操作可导致列表的元素个数的**扩张**或**收缩**。左侧不指定起始索引时，将会对左侧的列表重新初始化。"
   ]
  },
  {
   "cell_type": "code",
   "execution_count": 11,
   "metadata": {
    "collapsed": false
   },
   "outputs": [
    {
     "name": "stdout",
     "output_type": "stream",
     "text": [
      "Before ['a', 'b', 'c', 'd', 'e', 'f', 'g', 'h']\n",
      "After ['a', 'b', 99, 222, 14, 'h']\n"
     ]
    }
   ],
   "source": [
    "print('Before',a)\n",
    "a[2:7] = [99,222,14]\n",
    "print('After',a)"
   ]
  },
  {
   "cell_type": "code",
   "execution_count": 15,
   "metadata": {
    "collapsed": false
   },
   "outputs": [
    {
     "name": "stdout",
     "output_type": "stream",
     "text": [
      "Before ['a', 'b', 99, 222, 14, 'h']\n",
      "After  [101, 102, 103]\n"
     ]
    }
   ],
   "source": [
    "b = a\n",
    "print('Before',a)\n",
    "a[:] = [101,102,103]\n",
    "assert a is b\n",
    "print ('After ',a)"
   ]
  },
  {
   "cell_type": "markdown",
   "metadata": {},
   "source": [
    "**要点:**\n",
    "1. 不要写多余 的代码：当start 为0 或end为长度时应该省略。（简洁）\n",
    "2. 切片start，end越界不会导致错误\n",
    "3. 对切片进行赋值时，不必使切片长度和新值长度相同（修改list长度）"
   ]
  }
 ],
 "metadata": {
  "anaconda-cloud": {},
  "kernelspec": {
   "display_name": "Python [Root]",
   "language": "python",
   "name": "Python [Root]"
  },
  "language_info": {
   "codemirror_mode": {
    "name": "ipython",
    "version": 3
   },
   "file_extension": ".py",
   "mimetype": "text/x-python",
   "name": "python",
   "nbconvert_exporter": "python",
   "pygments_lexer": "ipython3",
   "version": "3.5.2"
  }
 },
 "nbformat": 4,
 "nbformat_minor": 0
}
