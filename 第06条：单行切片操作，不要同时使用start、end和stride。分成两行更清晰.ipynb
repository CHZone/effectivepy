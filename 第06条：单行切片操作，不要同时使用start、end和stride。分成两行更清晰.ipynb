{
 "cells": [
  {
   "cell_type": "markdown",
   "metadata": {},
   "source": [
    "###  常用"
   ]
  },
  {
   "cell_type": "markdown",
   "metadata": {},
   "source": [
    " 获取奇数和偶数索引对应元素，翻转"
   ]
  },
  {
   "cell_type": "code",
   "execution_count": 3,
   "metadata": {
    "collapsed": false
   },
   "outputs": [
    {
     "name": "stdout",
     "output_type": "stream",
     "text": [
      "['red', 'yellow', 'blue']\n",
      "['orange', 'green', 'purple']\n"
     ]
    }
   ],
   "source": [
    "a = ['red','orange','yellow','green','blue','purple']\n",
    "# 奇数序列 1,3,5\n",
    "odds = a[::2]\n",
    "evens = a[1::2]\n",
    "print(odds)\n",
    "print(evens)"
   ]
  },
  {
   "cell_type": "code",
   "execution_count": 1,
   "metadata": {
    "collapsed": false
   },
   "outputs": [
    {
     "name": "stdout",
     "output_type": "stream",
     "text": [
      "例案\n",
      "doog\n"
     ]
    }
   ],
   "source": [
    "# 字符数组不能转换为bytes数组在翻转\n",
    "w = '案例'\n",
    "print(w[::-1])\n",
    "w1 = 'good'\n",
    "print(w1[::-1])"
   ]
  },
  {
   "cell_type": "markdown",
   "metadata": {},
   "source": [
    "当含有步进的切片不够直观是，通常应当先步进，在切片。切片获得的是原始数据的浅拷贝，如果数据量很大应该使用itertool模块，该模块的islide方法不允许start,end或stride为负值。参见第46条"
   ]
  },
  {
   "cell_type": "markdown",
   "metadata": {},
   "source": [
    "**要点：**\n",
    "1. 同时含有start ,end 和stride的切片操作可能会令人费解。通常先步进，后切片\n",
    "2. 尽量使用正数进行步进操作\n",
    "3. 数据量较大时考虑使用内置itertool模块的islice"
   ]
  }
 ],
 "metadata": {
  "anaconda-cloud": {},
  "kernelspec": {
   "display_name": "Python [Root]",
   "language": "python",
   "name": "Python [Root]"
  },
  "language_info": {
   "codemirror_mode": {
    "name": "ipython",
    "version": 3
   },
   "file_extension": ".py",
   "mimetype": "text/x-python",
   "name": "python",
   "nbconvert_exporter": "python",
   "pygments_lexer": "ipython3",
   "version": "3.5.2"
  }
 },
 "nbformat": 4,
 "nbformat_minor": 0
}
