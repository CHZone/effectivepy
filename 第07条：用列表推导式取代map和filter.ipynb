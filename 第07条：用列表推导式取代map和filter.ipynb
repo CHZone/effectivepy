{
 "cells": [
  {
   "cell_type": "markdown",
   "metadata": {},
   "source": [
    "### list comprehension（列表推导）。"
   ]
  },
  {
   "cell_type": "markdown",
   "metadata": {},
   "source": [
    "使用原列表的每个元素构建新列表"
   ]
  },
  {
   "cell_type": "code",
   "execution_count": 7,
   "metadata": {
    "collapsed": false
   },
   "outputs": [
    {
     "name": "stdout",
     "output_type": "stream",
     "text": [
      "[1, 4, 9, 16, 25, 36, 49, 64, 81, 100]\n"
     ]
    }
   ],
   "source": [
    "a = [1,2,3,4,5,6,7,8,9,10]\n",
    "squares = [x**2 for x in a]\n",
    "print(squares)"
   ]
  },
  {
   "cell_type": "markdown",
   "metadata": {},
   "source": [
    "**map:**使用时需要创建lambda函数，代码看起来有些乱。\n",
    "map 构建的是生成器"
   ]
  },
  {
   "cell_type": "code",
   "execution_count": 8,
   "metadata": {
    "collapsed": false
   },
   "outputs": [
    {
     "name": "stdout",
     "output_type": "stream",
     "text": [
      "<map object at 0x0000000004360550>\n",
      "<map object at 0x0000000004360550>\n",
      "1\n",
      "[4, 9, 16, 25, 36, 49, 64, 81, 100]\n",
      "[]\n"
     ]
    }
   ],
   "source": [
    "squares = map(lambda x: x ** 2,a)\n",
    "print(squares)\n",
    "print(repr(squares))\n",
    "#print(list(squares))\n",
    "# map 生成的是的是生成器？？\n",
    "print(next(squares))\n",
    "print(list(squares))\n",
    "print(list(squares))"
   ]
  },
  {
   "cell_type": "markdown",
   "metadata": {},
   "source": [
    "将原列表中的偶数求平方后生成新列表"
   ]
  },
  {
   "cell_type": "markdown",
   "metadata": {},
   "source": [
    "列表生成式"
   ]
  },
  {
   "cell_type": "code",
   "execution_count": 9,
   "metadata": {
    "collapsed": false
   },
   "outputs": [
    {
     "name": "stdout",
     "output_type": "stream",
     "text": [
      "[4, 16, 36, 64, 100]\n"
     ]
    }
   ],
   "source": [
    "even_squares = [x**2 for x in a if x % 2 == 0]\n",
    "print(even_squares)"
   ]
  },
  {
   "cell_type": "markdown",
   "metadata": {},
   "source": [
    "map和filter"
   ]
  },
  {
   "cell_type": "code",
   "execution_count": 10,
   "metadata": {
    "collapsed": false
   },
   "outputs": [],
   "source": [
    "alt = map(lambda x: x**2,filter(lambda x: x % 2 == 0,a))\n",
    "# 注意此处的list\n",
    "assert even_squares == list(alt)"
   ]
  },
  {
   "cell_type": "markdown",
   "metadata": {},
   "source": [
    "字典(dict)与集（set），也有类似的推导机制。\n",
    "一下是按值排序的经典例子"
   ]
  },
  {
   "cell_type": "code",
   "execution_count": 11,
   "metadata": {
    "collapsed": false
   },
   "outputs": [
    {
     "name": "stdout",
     "output_type": "stream",
     "text": [
      "{1: 'ghost', 2: 'habanero', 3: 'cayenne'}\n",
      "{8, 5, 7}\n"
     ]
    }
   ],
   "source": [
    "chile_ranks = {'ghost':1,'habanero':2,'cayenne':3}\n",
    "rank_dict = {rank:name for name,rank in chile_ranks.items()}\n",
    "chile_len_set={len(name) for name in rank_dict.values()}\n",
    "print(rank_dict)\n",
    "print(chile_len_set)"
   ]
  },
  {
   "cell_type": "markdown",
   "metadata": {},
   "source": [
    "**要点：**\n",
    "1. 列表推导式在直接生成列表时比map和filter函数清晰，因为它无需额外编写lambda表达式。\n",
    "2. 列表推导式可以跳过某些元素，如果改用map来做，这必须用filter方式实现\n",
    "3. 字典（dict）和集合(set)也可以使用推导式\n",
    "4. map直接产生的是map类，与生成器类似，使用list 产生列表。\n",
    "\n",
    "**注：** 从代码的简洁性角度：尽量使用简单的列表推导式\n",
    "\n",
    "当数据量大时： map ，filter也可以更加方便的构建生成器。但在此之前优先考虑使用生成器表达式"
   ]
  },
  {
   "cell_type": "markdown",
   "metadata": {
    "collapsed": false
   },
   "source": [
    "学习 列表推导式和map filter"
   ]
  },
  {
   "cell_type": "code",
   "execution_count": 12,
   "metadata": {
    "collapsed": false
   },
   "outputs": [
    {
     "name": "stdout",
     "output_type": "stream",
     "text": [
      "<map object at 0x0000000004360B00>\n",
      "<map object at 0x0000000004360B00>\n",
      "<zip object at 0x000000000435B448>\n",
      "[('1', 1), ('2', 2)]\n",
      "<zip object at 0x000000000435B448>\n"
     ]
    }
   ],
   "source": [
    "a = ['1','2','3']\n",
    "b = [1,2]\n",
    "map_ab = map(None,a,b)\n",
    "print((map_ab))\n",
    "print(repr(map_ab))\n",
    "#print(next(map_ab))\n",
    "zip_ab = zip(a,b)\n",
    "print(zip_ab)\n",
    "print(list(zip_ab))\n",
    "print(repr(zip_ab))"
   ]
  },
  {
   "cell_type": "code",
   "execution_count": null,
   "metadata": {
    "collapsed": true
   },
   "outputs": [],
   "source": []
  }
 ],
 "metadata": {
  "kernelspec": {
   "display_name": "Python [Root]",
   "language": "python",
   "name": "Python [Root]"
  },
  "language_info": {
   "codemirror_mode": {
    "name": "ipython",
    "version": 3
   },
   "file_extension": ".py",
   "mimetype": "text/x-python",
   "name": "python",
   "nbconvert_exporter": "python",
   "pygments_lexer": "ipython3",
   "version": "3.5.2"
  }
 },
 "nbformat": 4,
 "nbformat_minor": 0
}
