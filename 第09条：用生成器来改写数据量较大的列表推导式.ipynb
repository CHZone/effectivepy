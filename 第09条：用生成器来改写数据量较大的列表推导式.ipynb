{
 "cells": [
  {
   "cell_type": "markdown",
   "metadata": {},
   "source": [
    "### 生成器表达式（generator expression）"
   ]
  },
  {
   "cell_type": "markdown",
   "metadata": {},
   "source": [
    "生成器表达式是对列表推导式和生成器的一种泛化（generalization）。生成器不会马上把所有数据呈现出来，同时可以按照迭代器的协议（方式）迭代（获取）数据。\n",
    "生成器表达式是列表推导式，生成器，迭代器的一个综合。\n",
    "\n",
    "1. 按照列表推导式的方式定义数据：推导式定义数据 for 语句\n",
    "2. 按照生成器的方式生成数据：“惰性”生成数据，减少内存消耗\n",
    "3. 按照迭代器的方式获取数据：next，list。"
   ]
  },
  {
   "cell_type": "code",
   "execution_count": 6,
   "metadata": {
    "collapsed": false,
    "scrolled": true
   },
   "outputs": [
    {
     "name": "stdout",
     "output_type": "stream",
     "text": [
      "<generator object <genexpr> at 0x0000000004848AF0>\n",
      "0\n"
     ]
    }
   ],
   "source": [
    "it = (x for x in range(10))\n",
    "print(it)\n",
    "print(next(it))\n",
    "#print(list(it))"
   ]
  },
  {
   "cell_type": "markdown",
   "metadata": {},
   "source": [
    "生成器表达式组合"
   ]
  },
  {
   "cell_type": "code",
   "execution_count": 7,
   "metadata": {
    "collapsed": false,
    "scrolled": true
   },
   "outputs": [
    {
     "name": "stdout",
     "output_type": "stream",
     "text": [
      "(1, 1.0)\n"
     ]
    }
   ],
   "source": [
    "roots = ((x,x**0.5) for x in it)\n",
    "print(next(roots))"
   ]
  },
  {
   "cell_type": "markdown",
   "metadata": {},
   "source": [
    "**要点：**\n",
    "1. 列表推导式的**数据量大**时，应该改写为生成器表达式，通过逐个产生数据节约内存\n",
    "2. 把一个生成器表达对应的迭代器放入另一生成器的for子表达式中，可以进行生成器表达式**组合**。组合生成器表达式执行速度快\n",
    "3. 有生成器表达式产生的迭代器是**有状态**的，所以在用过一轮后，不要反复使用。"
   ]
  },
  {
   "cell_type": "code",
   "execution_count": null,
   "metadata": {
    "collapsed": true
   },
   "outputs": [],
   "source": []
  }
 ],
 "metadata": {
  "anaconda-cloud": {},
  "kernelspec": {
   "display_name": "Python [Root]",
   "language": "python",
   "name": "Python [Root]"
  },
  "language_info": {
   "codemirror_mode": {
    "name": "ipython",
    "version": 3
   },
   "file_extension": ".py",
   "mimetype": "text/x-python",
   "name": "python",
   "nbconvert_exporter": "python",
   "pygments_lexer": "ipython3",
   "version": "3.5.2"
  }
 },
 "nbformat": 4,
 "nbformat_minor": 0
}
