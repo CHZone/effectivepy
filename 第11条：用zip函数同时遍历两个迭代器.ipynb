{
 "cells": [
  {
   "cell_type": "markdown",
   "metadata": {
    "collapsed": true
   },
   "source": [
    "示例代码:"
   ]
  },
  {
   "cell_type": "code",
   "execution_count": 2,
   "metadata": {
    "collapsed": false
   },
   "outputs": [
    {
     "name": "stdout",
     "output_type": "stream",
     "text": [
      "Cecilia\n"
     ]
    }
   ],
   "source": [
    "names = ['Cecilia','Lise','Marie']\n",
    "letters = [len(n) for n in names]\n",
    "longest_name = None\n",
    "max_letters = 0\n",
    "\n",
    "for i in range(len(names)):\n",
    "    count = letters[i]\n",
    "    if count > max_letters:\n",
    "        longest_name = names[i]\n",
    "        max_letters = count\n",
    "\n",
    "print(longest_name)"
   ]
  },
  {
   "cell_type": "markdown",
   "metadata": {},
   "source": [
    "循环语句看起来有些凌乱"
   ]
  },
  {
   "cell_type": "markdown",
   "metadata": {},
   "source": [
    "enumerate 改写："
   ]
  },
  {
   "cell_type": "code",
   "execution_count": 7,
   "metadata": {
    "collapsed": false
   },
   "outputs": [
    {
     "name": "stdout",
     "output_type": "stream",
     "text": [
      "Cecilia\n"
     ]
    }
   ],
   "source": [
    "names = ['Cecilia','Lise','Marie']\n",
    "# 因为后面要通过下标获取长度，此处不能使用生成器\n",
    "letters = [len(n) for n in names]\n",
    "longest_name = None\n",
    "max_letters = 0\n",
    "\n",
    "for i ,name in enumerate(names):\n",
    "    count = letters[i]\n",
    "    if count > max_letters:\n",
    "        longest_name = name\n",
    "        max_letters = count\n",
    "\n",
    "print(longest_name)"
   ]
  },
  {
   "cell_type": "markdown",
   "metadata": {},
   "source": [
    "zip 改写：Python3中Zip把两个迭代器（也可使用生成器）分装成生成器。对应的元素变成元组（tuple）。"
   ]
  },
  {
   "cell_type": "code",
   "execution_count": 10,
   "metadata": {
    "collapsed": false
   },
   "outputs": [
    {
     "name": "stdout",
     "output_type": "stream",
     "text": [
      "Cecilia\n"
     ]
    }
   ],
   "source": [
    "names = ['Cecilia','Lise','Marie']\n",
    "#此处可以使用生成器\n",
    "letters = (len(n) for n in names)\n",
    "longest_name = None\n",
    "max_letters = 0\n",
    "for name, count in zip (names,letters):\n",
    "    if count > max_letters:\n",
    "        max_letters = count\n",
    "        longest_name = name\n",
    "        \n",
    "print(longest_name)"
   ]
  },
  {
   "cell_type": "markdown",
   "metadata": {},
   "source": [
    "此处代码看起来更加清晰。names，letters在for语句第一行中。\n",
    "\n",
    "**注：**\n",
    "1. Python2中zip返回的**不是生成器**，因此数据量大时，可能会因为内存占用大而导致程序崩溃。此时可以使用itertools内存模块中的izip函数（参见46条）。\n",
    "2. zip中输入的迭代器长度不同时，会以最短的迭代器终止生成tuple。"
   ]
  },
  {
   "cell_type": "code",
   "execution_count": 14,
   "metadata": {
    "collapsed": false
   },
   "outputs": [
    {
     "name": "stdout",
     "output_type": "stream",
     "text": [
      "Cecilia\n",
      "Lise\n",
      "Marie\n"
     ]
    }
   ],
   "source": [
    "names = ['Cecilia','Lise','Marie']\n",
    "#此处可以使用生成器\n",
    "letters = [len(n) for n in names]\n",
    "names.append('Rosalind')\n",
    "\n",
    "for name,count in zip(names,letters):\n",
    "    print(name)"
   ]
  },
  {
   "cell_type": "markdown",
   "metadata": {},
   "source": [
    "当letters 耗尽时，就会停止生成tuple，for语句终止"
   ]
  },
  {
   "cell_type": "markdown",
   "metadata": {},
   "source": [
    "letters 该用**生成器**时可以避免这个问题。（因为，生成器是边运行边迭代的）"
   ]
  },
  {
   "cell_type": "code",
   "execution_count": 17,
   "metadata": {
    "collapsed": false
   },
   "outputs": [
    {
     "name": "stdout",
     "output_type": "stream",
     "text": [
      "Cecilia\n",
      "Lise\n",
      "Marie\n",
      "Rosalind\n"
     ]
    }
   ],
   "source": [
    "names = ['Cecilia','Lise','Marie']\n",
    "#此处可以使用生成器\n",
    "letters = (len(n) for n in names)\n",
    "names.append('Rosalind')\n",
    "for name,count in zip(names,letters):\n",
    "    print(name)"
   ]
  },
  {
   "cell_type": "markdown",
   "metadata": {},
   "source": [
    "**要点：**\n",
    "1. zip可以将多个迭代器（生成器）的平行组合成元素为tuple结构的生成器。\n",
    "2. Python3 zip构建生成器，Python2 构建的是列表（需考虑数据量）。\n",
    "3. zip输入的多个迭代器长度不同时，会以最短长度终止\n",
    "4. itertools内置模块总的zip_longest函数可以平行的迭代多个迭代器，不用在乎他们的长度是否相等（参见第46条）。Python2对应izip_longest函数"
   ]
  },
  {
   "cell_type": "code",
   "execution_count": null,
   "metadata": {
    "collapsed": true
   },
   "outputs": [],
   "source": []
  }
 ],
 "metadata": {
  "anaconda-cloud": {},
  "kernelspec": {
   "display_name": "Python [Root]",
   "language": "python",
   "name": "Python [Root]"
  },
  "language_info": {
   "codemirror_mode": {
    "name": "ipython",
    "version": 3
   },
   "file_extension": ".py",
   "mimetype": "text/x-python",
   "name": "python",
   "nbconvert_exporter": "python",
   "pygments_lexer": "ipython3",
   "version": "3.5.2"
  }
 },
 "nbformat": 4,
 "nbformat_minor": 0
}
