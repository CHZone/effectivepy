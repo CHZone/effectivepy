{
 "cells": [
  {
   "cell_type": "markdown",
   "metadata": {},
   "source": [
    "### 案例需求："
   ]
  },
  {
   "cell_type": "markdown",
   "metadata": {},
   "source": [
    "在对一串数字进行排序时，把出现在某个组群中的数字放在其他数据之前。这种需求在绘制个性化用户界面时会遇到，我们可以用这种办法把重要消息或意外的事件优先显示在其它内容前面。"
   ]
  },
  {
   "cell_type": "markdown",
   "metadata": {},
   "source": [
    "### 解决方案"
   ]
  },
  {
   "cell_type": "markdown",
   "metadata": {},
   "source": [
    "sort函数key参数接受辅助函数。辅助函数的返回值用来确定列表中各元素的顺序。辅助函数用来判断元素是否在组群中，并根据判断结果添加相应的排序关键字（sort key）(这个可能与下面的第3个原因对应--修改比较元组)"
   ]
  },
  {
   "cell_type": "code",
   "execution_count": 8,
   "metadata": {
    "collapsed": false
   },
   "outputs": [
    {
     "name": "stdout",
     "output_type": "stream",
     "text": [
      "[2, 3, 5, 7, 1, 4, 6, 8]\n"
     ]
    }
   ],
   "source": [
    "def sort_priority(values, group):\n",
    "    def helper(x):\n",
    "        if x in group:\n",
    "            return (0, x)\n",
    "        return (1, x)\n",
    "    values.sort(key=helper)\n",
    "    \n",
    "numbers = [8, 3, 1, 2, 5, 4, 7, 6]\n",
    "group = {2, 5, 3, 7}\n",
    "sort_priority(numbers, group)\n",
    "print(numbers)"
   ]
  },
  {
   "cell_type": "markdown",
   "metadata": {},
   "source": [
    "### 该方案使用到的重要Python特性 "
   ]
  },
  {
   "cell_type": "markdown",
   "metadata": {},
   "source": [
    "1. 闭包（closure):闭包是指定义在某个作用域中的函数，这种函数引用(使用了)那个作用域中的变量。本例中，helper函数访问了sort_priority的group参数，这就是闭包。（只读）\n",
    "2. Python的函数是一级对象（first-class object),函数可以像对象一样进行引用，赋值给变量，作为参数进行传递，并通过表达式及if语句对其进行比较和判断等等。本例中，helper函数作为参数传给了sort。\n",
    "3. Python的元组比较规则：按照下标顺序进行依次比较"
   ]
  },
  {
   "cell_type": "markdown",
   "metadata": {},
   "source": [
    "### 添加需求--返回出现优先级元件提示 "
   ]
  },
  {
   "cell_type": "markdown",
   "metadata": {},
   "source": [
    "当用户界面出现了优先级高的元件前，我们需要提示用户是否应用这种优先级。此时我们需要换回一个值左侧相应的处理。"
   ]
  },
  {
   "cell_type": "markdown",
   "metadata": {},
   "source": [
    "*直觉上的做法*"
   ]
  },
  {
   "cell_type": "code",
   "execution_count": 9,
   "metadata": {
    "collapsed": false
   },
   "outputs": [
    {
     "name": "stdout",
     "output_type": "stream",
     "text": [
      "Found: False\n",
      "[2, 3, 5, 7, 1, 4, 6, 8]\n"
     ]
    }
   ],
   "source": [
    "def sort_priority2(numbers,group):\n",
    "    found = False\n",
    "    def helper(x):\n",
    "        if x in group:\n",
    "            found = True # Seems simple\n",
    "            return(0,  x)\n",
    "        return (1, x)\n",
    "    numbers.sort(key=helper)\n",
    "    return found\n",
    "            \n",
    "found = sort_priority2(numbers, group)\n",
    "print('Found:',found)\n",
    "print(numbers)"
   ]
  },
  {
   "cell_type": "markdown",
   "metadata": {},
   "source": [
    "结果显示排序正确，但是found不对。\n",
    "**原因：**\n",
    "Python解释器解析引用（变量）时遍历作用域的顺序：\n",
    "1. 当前函数作用域  -- helper\n",
    "2. 任何外围作用域（例如：包涵当前函数的其他函数） -- sort_priority2\n",
    "3. 包涵当前代码的模块作用域（也叫全局作用域，global scope) --- .py\n",
    "4. 内置作用域（也就是包括len及str等函数的那个作用域)。Python 库环境\n",
    "\n",
    "如果还没找到就抛出NameError异常。\n",
    "\n",
    "赋值规则--闭包无法修改外围变量：\n",
    "\n",
    "如果当前函数域（helper）已经定义了这个变量，就直接修改该变量；若当前作用域(helper)中没有这个变量，Python会在该作用域内重新定义同名的变量进行修改。这导致了helper无法**真实的**修改外围域中的变量。\n",
    "\n",
    "这种设计的目的：防止函数中的局部变量修改污染函数外面的模块。这种污染可能导致一些难以检查的bug"
   ]
  },
  {
   "cell_type": "markdown",
   "metadata": {},
   "source": [
    "### 获取闭包内的数据（强制修改外部局部变量）"
   ]
  },
  {
   "cell_type": "markdown",
   "metadata": {},
   "source": [
    "**nonlocal 语句**"
   ]
  },
  {
   "cell_type": "code",
   "execution_count": 11,
   "metadata": {
    "collapsed": false
   },
   "outputs": [
    {
     "name": "stdout",
     "output_type": "stream",
     "text": [
      "Found: True\n",
      "[2, 3, 5, 7, 1, 4, 6, 8]\n"
     ]
    }
   ],
   "source": [
    "def sort_priority3(numbers, group):\n",
    "    found = False\n",
    "    def helper(x):\n",
    "        nonlocal found\n",
    "        if x in group:\n",
    "            found = True\n",
    "            return (0, x)\n",
    "        return(1,x)\n",
    "    numbers.sort(key=helper)\n",
    "    return found\n",
    "\n",
    "found = sort_priority3(numbers, group)\n",
    "print('Found:',found)\n",
    "print(numbers)"
   ]
  },
  {
   "cell_type": "markdown",
   "metadata": {},
   "source": [
    "nonlocal语句指明了修改的其实是闭包外的那个作用域（sort_priority3）的变量。这与global语句互为补充，global会直接修改稿模块作用域的变量。"
   ]
  },
  {
   "cell_type": "markdown",
   "metadata": {},
   "source": [
    "**注意：** 尽量只在及其简单的函数里面使用这种nonlocal机制。滥用nonlocal会导致难以最终的bug。尤其是nonlocal语句与变量修改操作相关比较远时，还会导致代码难以理解。\n",
    "\n",
    "如果这种需求比较复杂，那就应该将相关状态分装成辅助类（helper class）。下面的类将替代nonlocal的功能。它虽然有点长，但理解起来相当容易（其中有个名叫__call__的特殊方法，参见第23条）。 该类对应 helper函数。helper本身是一级类。"
   ]
  },
  {
   "cell_type": "code",
   "execution_count": 12,
   "metadata": {
    "collapsed": true
   },
   "outputs": [],
   "source": [
    "class Sorter(object):\n",
    "    def __init__(self, group):\n",
    "        self.group = group\n",
    "        self.found = False\n",
    "        \n",
    "    def __call__(self, x):\n",
    "        if x in self.group:\n",
    "            self.found = True\n",
    "            return (0, x)\n",
    "        return (1, x)\n",
    "    \n",
    "sorter = Sorter(group)\n",
    "numbers.sort(key=sorter)\n",
    "assert sorter.found is True"
   ]
  },
  {
   "cell_type": "markdown",
   "metadata": {},
   "source": [
    "### Python2 方案"
   ]
  },
  {
   "cell_type": "markdown",
   "metadata": {},
   "source": [
    "Python2 不支持nonlocal关键字。Python2 使用了不太优雅的Python作用域规则来解决。但这已经成了一种Python变成的习惯。"
   ]
  },
  {
   "cell_type": "code",
   "execution_count": 13,
   "metadata": {
    "collapsed": true
   },
   "outputs": [
    {
     "name": "stdout",
     "output_type": "stream",
     "text": [
      "True\n"
     ]
    }
   ],
   "source": [
    "# Python2\n",
    "def sort_priority(numbers, group):\n",
    "    found = [False]\n",
    "    def helper(x):\n",
    "        if x in group:\n",
    "            found[0] = True\n",
    "            return (0,x)\n",
    "        return (1, x)\n",
    "    numbers.sort(key=helper)\n",
    "    return found[0]\n",
    "\n",
    "print(sort_priority(numbers,group))"
   ]
  },
  {
   "cell_type": "markdown",
   "metadata": {},
   "source": [
    "原理：Python在上级作用域中找到found，利用found列表类型的**mutable**（可变性），获取found列表后可以在闭包内通过found[0]=True，修改found的状态。\n",
    "\n",
    "上级作用域中具有该特性的变量类型还有字典（dictionary）、集合或某个类的实例。"
   ]
  },
  {
   "cell_type": "markdown",
   "metadata": {},
   "source": [
    "### 要点"
   ]
  },
  {
   "cell_type": "markdown",
   "metadata": {},
   "source": [
    "1. 闭包可以引用上一级作用域中的变量。\n",
    "2. 默认情况下闭包内无法有效的修改上一级作用域的变量\n",
    "3. Python3 可以使用nonlocal语句强制修改上一级的变量\n",
    "4. Python2 中使用可可变值（例如，包涵当元素的列表）实现nonlocal语句的功能。\n",
    "5. 防止滥用 nonlocal语句，逻辑复杂时，考虑使用辅助类\n",
    "6. mutable（可变性）的弊端值得研究"
   ]
  },
  {
   "cell_type": "code",
   "execution_count": null,
   "metadata": {
    "collapsed": true
   },
   "outputs": [],
   "source": []
  }
 ],
 "metadata": {
  "kernelspec": {
   "display_name": "Python [Root]",
   "language": "python",
   "name": "Python [Root]"
  },
  "language_info": {
   "codemirror_mode": {
    "name": "ipython",
    "version": 3
   },
   "file_extension": ".py",
   "mimetype": "text/x-python",
   "name": "python",
   "nbconvert_exporter": "python",
   "pygments_lexer": "ipython3",
   "version": "3.5.2"
  }
 },
 "nbformat": 4,
 "nbformat_minor": 0
}
