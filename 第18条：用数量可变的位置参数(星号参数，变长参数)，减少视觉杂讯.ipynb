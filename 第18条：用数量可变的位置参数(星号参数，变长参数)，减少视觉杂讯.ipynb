{
 "cells": [
  {
   "cell_type": "markdown",
   "metadata": {},
   "source": [
    "### 场景 "
   ]
  },
  {
   "cell_type": "markdown",
   "metadata": {},
   "source": [
    "log日志函数，接受一段信息和一份带打印的值列表。"
   ]
  },
  {
   "cell_type": "code",
   "execution_count": 1,
   "metadata": {
    "collapsed": false,
    "scrolled": true
   },
   "outputs": [
    {
     "name": "stdout",
     "output_type": "stream",
     "text": [
      "My numbers are: 1, 2\n",
      "Hi there\n"
     ]
    }
   ],
   "source": [
    "def log(message, values):\n",
    "    if not values:\n",
    "        print(message)\n",
    "    else:\n",
    "        values_str = ', '.join(str(x) for x in values)\n",
    "        print('%s: %s' % (message, values_str))\n",
    "\n",
    "log('My numbers are', [1, 2])\n",
    "log('Hi there',[])"
   ]
  },
  {
   "cell_type": "markdown",
   "metadata": {},
   "source": [
    "缺点：必须输入value，即使没有要显示的value，也要用空列表[]占位\n",
    "\n",
    "改进：使用 \\*args(星号参数、变长参数)。"
   ]
  },
  {
   "cell_type": "code",
   "execution_count": 2,
   "metadata": {
    "collapsed": false
   },
   "outputs": [
    {
     "name": "stdout",
     "output_type": "stream",
     "text": [
      "valuse (1, 2)\n",
      "My numbers are: 1, 2\n",
      "Hi there\n"
     ]
    }
   ],
   "source": [
    "def log(message,*values): #the only difference\n",
    "    if not values:\n",
    "        print(message)\n",
    "    else:\n",
    "        print('valuse',values)\n",
    "        values_str=', '.join(str(x) for x in values)\n",
    "        print('%s: %s' % (message, values_str))\n",
    "\n",
    "log('My numbers are', 1, 2)\n",
    "log('Hi there') # much better\n",
    "        "
   ]
  },
  {
   "cell_type": "markdown",
   "metadata": {},
   "source": [
    "当第二个参数是列表时，使用\\* 操作符。Python会把这个列表当做位置参数。对应的多个参数会被拆分后组成tuple"
   ]
  },
  {
   "cell_type": "code",
   "execution_count": 3,
   "metadata": {
    "collapsed": false,
    "scrolled": false
   },
   "outputs": [
    {
     "name": "stdout",
     "output_type": "stream",
     "text": [
      "valuse (7, 33, 99)\n",
      "Favorite colors: 7, 33, 99\n",
      "valuse ([7, 33, 99],)\n",
      "Favorite colors: [7, 33, 99]\n"
     ]
    }
   ],
   "source": [
    "favorites = [7, 33, 99]\n",
    "log('Favorite colors', *favorites)\n",
    "log('Favorite colors', favorites)"
   ]
  },
  {
   "cell_type": "markdown",
   "metadata": {},
   "source": [
    "### 问题1"
   ]
  },
  {
   "cell_type": "markdown",
   "metadata": {},
   "source": [
    "变长参数总是先转化为元组（tuple）。上面的log('My numbers are', 1, 2) 后面的1,2 对应为元组。调用时 \\* 操作符作用于**生成器**时，Python会把生成器完整迭代一遍，然后把列表转成元组传人函数。此时，如果生成器数据量大，可能会导致内存耗尽，程序崩溃。"
   ]
  },
  {
   "cell_type": "code",
   "execution_count": 12,
   "metadata": {
    "collapsed": false
   },
   "outputs": [
    {
     "name": "stdout",
     "output_type": "stream",
     "text": [
      "(0, 1, 2, 3, 4, 5, 6, 7, 8, 9)\n"
     ]
    }
   ],
   "source": [
    "def my_generator():\n",
    "    for i in range(10):\n",
    "        yield i\n",
    "        \n",
    "def my_func(*args):\n",
    "    print(args)\n",
    "    \n",
    "it = my_generator()\n",
    "my_func(*it)"
   ]
  },
  {
   "cell_type": "markdown",
   "metadata": {},
   "source": [
    "因此：在使用 \\*arg 位置参数时，必须确保**参数个数较少**。"
   ]
  },
  {
   "cell_type": "markdown",
   "metadata": {},
   "source": [
    "### 问题2 "
   ]
  },
  {
   "cell_type": "markdown",
   "metadata": {},
   "source": [
    "如果以后要添加新的位置参数，那就必须修改调用该函数的那些旧代码。若是只在变长参数前直接添加新参数，而不更新旧的的调用代码，则会产生难以调试的错误。"
   ]
  },
  {
   "cell_type": "code",
   "execution_count": 13,
   "metadata": {
    "collapsed": false
   },
   "outputs": [
    {
     "name": "stdout",
     "output_type": "stream",
     "text": [
      "1: Favorites: 7, 33\n",
      "Favorite numbers: 7: 33\n"
     ]
    }
   ],
   "source": [
    "def log(sequence, message, *values):\n",
    "    if not values:\n",
    "        print('%s: %s' % (sequence, message))\n",
    "    else:\n",
    "        values_str = ', '.join(str(x) for x in values)\n",
    "        print('%s: %s: %s' % (sequence, message,values_str))\n",
    "        \n",
    "log(1, 'Favorites', 7, 33) #new usage is ok\n",
    "log('Favorite numbers', 7, 33) #Old usage breaks"
   ]
  },
  {
   "cell_type": "markdown",
   "metadata": {},
   "source": [
    "老的调用代码中，由于没有指定sequence参数，所以的参数前移了一位。这种bug很难追踪因为，代码没有报错。为了彻底避免这种情况，我们应该使用**只能以关键字形式指定的参数**（keyword-only argument）,来扩展\\*args的函数(参见第21条）"
   ]
  },
  {
   "cell_type": "markdown",
   "metadata": {},
   "source": [
    "### 要点 "
   ]
  },
  {
   "cell_type": "markdown",
   "metadata": {},
   "source": [
    "1. \\*arg 星号参数，接受数量可变的位置参数\n",
    "2. \\* 操作符把多个位置参数，自动组合成元组（tuple）。在调用时对实参使用 \\* 操作符 可以把列表拆分后转成tuple。\n",
    "3. 将生成器最为星号参数传入时，需考虑生成器的数据量\n",
    "4. 在旧的得含星号参数的函数上添加位置参数时，可能参数难以排查的bug"
   ]
  },
  {
   "cell_type": "code",
   "execution_count": null,
   "metadata": {
    "collapsed": true
   },
   "outputs": [],
   "source": []
  }
 ],
 "metadata": {
  "kernelspec": {
   "display_name": "Python [Root]",
   "language": "python",
   "name": "Python [Root]"
  },
  "language_info": {
   "codemirror_mode": {
    "name": "ipython",
    "version": 3
   },
   "file_extension": ".py",
   "mimetype": "text/x-python",
   "name": "python",
   "nbconvert_exporter": "python",
   "pygments_lexer": "ipython3",
   "version": "3.5.2"
  }
 },
 "nbformat": 4,
 "nbformat_minor": 0
}
