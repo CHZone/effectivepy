{
 "cells": [
  {
   "cell_type": "markdown",
   "metadata": {},
   "source": [
    "### 场景 "
   ]
  },
  {
   "cell_type": "markdown",
   "metadata": {},
   "source": [
    "根据时间打印日志。（当为指定时间是按照函数调用时间来显示时间。）（参数是变化的 not mutable类型）"
   ]
  },
  {
   "cell_type": "code",
   "execution_count": 12,
   "metadata": {
    "collapsed": false
   },
   "outputs": [
    {
     "name": "stdout",
     "output_type": "stream",
     "text": [
      "2016-11-24 14:37:17.714388: Hi there!\n",
      "2016-11-24 14:37:17.714388: Hi again!\n"
     ]
    }
   ],
   "source": [
    "from datetime import datetime\n",
    "from time import sleep\n",
    "\n",
    "def log(message, when = datetime.now()):\n",
    "    print('%s: %s' % (when, message))\n",
    "    \n",
    "log('Hi there!')\n",
    "sleep(1)\n",
    "log('Hi again!')"
   ]
  },
  {
   "cell_type": "markdown",
   "metadata": {},
   "source": [
    "此处始终只显示函数加载时的时间。因为datetime.now()只在模块加载时执行。再次调用时不会重新执行。"
   ]
  },
  {
   "cell_type": "markdown",
   "metadata": {},
   "source": [
    "### 解决方案"
   ]
  },
  {
   "cell_type": "markdown",
   "metadata": {},
   "source": [
    "Python中动态默认值，习惯上把默认值设置为None，并在文档字符串（docstring）里把None所对应的时间行为描述出来（参见49条）。编写函数代码是，如果发现该参数是None，就会将其设为实际的默认值。"
   ]
  },
  {
   "cell_type": "code",
   "execution_count": 13,
   "metadata": {
    "collapsed": true
   },
   "outputs": [],
   "source": [
    "def log(message, when=None):\n",
    "    \"\"\"Log a message with a timestamp.\n",
    "    \n",
    "    Args:\n",
    "        message: Message to print.\n",
    "        when: datetime of when the message occurred.\n",
    "            Defaults to the present time\n",
    "    \"\"\"\n",
    "    when = datetime.now() if when is None else when\n",
    "    print('%s: %s' % (when, message))\n",
    "    "
   ]
  },
  {
   "cell_type": "code",
   "execution_count": 14,
   "metadata": {
    "collapsed": false,
    "scrolled": true
   },
   "outputs": [
    {
     "name": "stdout",
     "output_type": "stream",
     "text": [
      "2016-11-24 14:44:48.172589: Hi there!\n",
      "2016-11-24 14:44:49.172716: Hi again!\n"
     ]
    }
   ],
   "source": [
    "log('Hi there!')\n",
    "sleep(1)\n",
    "log('Hi again!')"
   ]
  },
  {
   "cell_type": "markdown",
   "metadata": {},
   "source": [
    "（其实不需要使用默认参数）"
   ]
  },
  {
   "cell_type": "markdown",
   "metadata": {},
   "source": [
    "### 场景2--参数默认值为mutable可变类型 "
   ]
  },
  {
   "cell_type": "markdown",
   "metadata": {},
   "source": [
    "按照JSON格式解析字符串。若失败，则默认返回空字典。"
   ]
  },
  {
   "cell_type": "code",
   "execution_count": 17,
   "metadata": {
    "collapsed": false
   },
   "outputs": [
    {
     "name": "stdout",
     "output_type": "stream",
     "text": [
      "Foo: {'stuff': 5, 'meep': 1}\n",
      "Bar: {'stuff': 5, 'meep': 1}\n"
     ]
    }
   ],
   "source": [
    "import json\n",
    "def decode(data, default={}):\n",
    "    try:\n",
    "        return json.loads(data)\n",
    "    except ValueError:\n",
    "        return default\n",
    "\n",
    "foo = decode('bad data')\n",
    "foo['stuff'] = 5\n",
    "bar = decode('also bad')\n",
    "bar['meep'] = 1\n",
    "print('Foo:', foo)\n",
    "print('Bar:', bar)\n"
   ]
  },
  {
   "cell_type": "markdown",
   "metadata": {},
   "source": [
    "预期结果为foo和bar里面各有一对不同的键和值。而结果显示，修改其中一个后，另一个似乎也受到了影响。这种错误的**根本原因是**：foo和bar都是default参数默认值的那个字典对象。"
   ]
  },
  {
   "cell_type": "code",
   "execution_count": 18,
   "metadata": {
    "collapsed": true
   },
   "outputs": [],
   "source": [
    "assert foo is bar"
   ]
  },
  {
   "cell_type": "markdown",
   "metadata": {},
   "source": [
    "### 解决办法"
   ]
  },
  {
   "cell_type": "markdown",
   "metadata": {},
   "source": [
    "把关键字的默认值设为None，并在函数的文档字符串中描述他的实际行为。"
   ]
  },
  {
   "cell_type": "code",
   "execution_count": 19,
   "metadata": {
    "collapsed": true
   },
   "outputs": [],
   "source": [
    "def decode(data, default = None):\n",
    "    \"\"\"Load JSON data from a string.\n",
    "    \n",
    "    Args:\n",
    "        data: JSON data to decode.\n",
    "        default: Value to return if decoding fails.\n",
    "            Defaults to an empty dictionary.\n",
    "    \"\"\"\n",
    "    if default is None:\n",
    "        default = {}\n",
    "    try:\n",
    "        return json.loads(data)\n",
    "    except ValueError:\n",
    "        return default"
   ]
  },
  {
   "cell_type": "code",
   "execution_count": 20,
   "metadata": {
    "collapsed": false
   },
   "outputs": [
    {
     "name": "stdout",
     "output_type": "stream",
     "text": [
      "Foo: {'stuff': 5}\n",
      "Bar: {'meep': 1}\n"
     ]
    }
   ],
   "source": [
    "foo = decode('bad data')\n",
    "foo['stuff'] = 5\n",
    "bar = decode('also bad')\n",
    "bar['meep'] = 1\n",
    "print('Foo:', foo)\n",
    "print('Bar:', bar)"
   ]
  },
  {
   "cell_type": "markdown",
   "metadata": {},
   "source": [
    "### 要点 "
   ]
  },
  {
   "cell_type": "markdown",
   "metadata": {},
   "source": [
    "1. 参数默认值， 之后在程序加载模块并调用该函数时赋值一次。对于{}或[]等mutable类型，这可能大致奇怪的行为。\n",
    "2. 对于动态值作为实际默认值的关键字参数来说，应该把形式上的默认值为None， 并在函数的文档字符串里面描述该默认值所对应的实际行为。"
   ]
  },
  {
   "cell_type": "code",
   "execution_count": null,
   "metadata": {
    "collapsed": true
   },
   "outputs": [],
   "source": []
  }
 ],
 "metadata": {
  "kernelspec": {
   "display_name": "Python [Root]",
   "language": "python",
   "name": "Python [Root]"
  },
  "language_info": {
   "codemirror_mode": {
    "name": "ipython",
    "version": 3
   },
   "file_extension": ".py",
   "mimetype": "text/x-python",
   "name": "python",
   "nbconvert_exporter": "python",
   "pygments_lexer": "ipython3",
   "version": "3.5.2"
  }
 },
 "nbformat": 4,
 "nbformat_minor": 0
}
